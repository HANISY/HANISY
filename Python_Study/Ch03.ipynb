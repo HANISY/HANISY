{
 "cells": [
  {
   "cell_type": "markdown",
   "id": "103d9717",
   "metadata": {},
   "source": [
    "3. 조건문"
   ]
  },
  {
   "cell_type": "code",
   "execution_count": 8,
   "id": "840bb954",
   "metadata": {},
   "outputs": [
    {
     "name": "stdout",
     "output_type": "stream",
     "text": [
      "True입니다...!\n",
      "정말 True입니다...!\n"
     ]
    }
   ],
   "source": [
    "if True: # if 조건문 뒤에는 반드시 콜론(:) 입력\n",
    "    print(\"True입니다...!\") # if문 다음 문장은 4칸 들여쓰기 후 입력\n",
    "    print(\"정말 True입니다...!\")\n"
   ]
  },
  {
   "cell_type": "markdown",
   "id": "7a352afa",
   "metadata": {},
   "source": []
  },
  {
   "cell_type": "code",
   "execution_count": null,
   "id": "65d2bf1a",
   "metadata": {},
   "outputs": [],
   "source": [
    "if False: # 거짓인 경우 명령문이 있더라도 아무것도 실행되지 않음\n",
    "    print(\"False입니다...!\") "
   ]
  },
  {
   "cell_type": "code",
   "execution_count": null,
   "id": "f30045b9",
   "metadata": {},
   "outputs": [
    {
     "name": "stdout",
     "output_type": "stream",
     "text": [
      "0입니다\n"
     ]
    }
   ],
   "source": [
    "# 입력\n",
    "number = input(\"정수 입력> \")\n",
    "number = int(number)\n",
    "\n",
    "# 양수 조건\n",
    "if number > 0:\n",
    "    print(\"양수입니다\")\n",
    "\n",
    "# 음수 조건\n",
    "if number < 0:\n",
    "    print(\"음수입니다\")\n",
    "\n",
    "# 0 조건\n",
    "if number == 0:\n",
    "    print(\"0입니다\")"
   ]
  },
  {
   "cell_type": "markdown",
   "id": "613fb8b8",
   "metadata": {},
   "source": [
    "soft tab = 자동으로 띄어쓰기 네 개 입력\n",
    "들여쓰기를 제거하려면 shift + tab 키 누르기 "
   ]
  },
  {
   "cell_type": "code",
   "execution_count": null,
   "id": "faa1a608",
   "metadata": {},
   "outputs": [
    {
     "name": "stdout",
     "output_type": "stream",
     "text": [
      "2025 년\n",
      "10 월\n",
      "28 일\n",
      "10 시\n",
      "6 분\n",
      "18 초\n"
     ]
    }
   ],
   "source": [
    "# 날짜/시간과 관련된 기능 가져오기\n",
    "import datetime\n",
    "\n",
    "# 현재 날짜/시간 구하기\n",
    "now = datetime.datetime.now() # 괄호 안붙이면 AttributeError 발생 \n",
    "\n",
    "# 출력\n",
    "print(now.year, \"년\")\n",
    "print(now.month, \"월\")\n",
    "print(now.day, \"일\")\n",
    "print(now.hour, \"시\")\n",
    "print(now.minute, \"분\")\n",
    "print(now.second, \"초\")"
   ]
  },
  {
   "cell_type": "code",
   "execution_count": 12,
   "id": "1fab8a27",
   "metadata": {},
   "outputs": [
    {
     "name": "stdout",
     "output_type": "stream",
     "text": [
      "2025년 10월 28일 10시 6분 18초\n"
     ]
    }
   ],
   "source": [
    "# 날짜/시간 한줄로 출력하기\n",
    "print(\"{}년 {}월 {}일 {}시 {}분 {}초\".format(\n",
    "    now.year,\n",
    "    now.month,\n",
    "    now.day,\n",
    "    now.hour,\n",
    "    now.minute,\n",
    "    now.second\n",
    "))"
   ]
  },
  {
   "cell_type": "code",
   "execution_count": 15,
   "id": "c577e40f",
   "metadata": {},
   "outputs": [
    {
     "name": "stdout",
     "output_type": "stream",
     "text": [
      "현재 시각은 10시로 오전입니다!\n"
     ]
    }
   ],
   "source": [
    "# 오전 구분\n",
    "if now.hour < 12:\n",
    "    print(\"현재 시각은 {}시로 오전입니다!\".format(now.hour))\n",
    "else:\n",
    "    print(\"현재 시각은 {}시로 오후입니다!\".format(now.hour))"
   ]
  },
  {
   "cell_type": "code",
   "execution_count": 17,
   "id": "d9f809f1",
   "metadata": {},
   "outputs": [
    {
     "name": "stdout",
     "output_type": "stream",
     "text": [
      "이번 달은 10월로 가을입니다!\n"
     ]
    }
   ],
   "source": [
    "# 계절 구분 \n",
    "if  3 <= now.month <= 5:\n",
    "    print(\"이번 달은 {}월로 봄입니다!\".format(now.month))\n",
    "elif 6 <= now.month <= 8:\n",
    "    print(\"이번 달은 {}월로 여름입니다!\".format(now.month))\n",
    "elif 9 <= now.month <= 11:\n",
    "    print(\"이번 달은 {}월로 가을입니다!\".format(now.month))\n",
    "else:\n",
    "    print(\"이번 달은 {}월로 겨울입니다!\".format(now.month))"
   ]
  },
  {
   "cell_type": "code",
   "execution_count": null,
   "id": "099e5497",
   "metadata": {},
   "outputs": [
    {
     "name": "stdout",
     "output_type": "stream",
     "text": [
      "짝수입니다\n"
     ]
    }
   ],
   "source": [
    "# 끝자리로 짝수 홀수 구분\n",
    "\n",
    "number = input(\"정수 입력> \")\n",
    "\n",
    "# 마지막 자리 숫자를 추출\n",
    "last_character = number[-1]\n",
    "\n",
    "# 숫자로 변환\n",
    "last_number = int(last_character)\n",
    "\n",
    "# 짝수 확인\n",
    "# 줄이 너무 길어질 때는 \\ 기호를 입력해서 줄바꿈 후 코드 입력\n",
    "if last_number == 0 \\\n",
    "    or last_number == 2 \\\n",
    "    or last_number == 4 \\\n",
    "    or last_number == 6 \\\n",
    "    or last_number == 8:\n",
    "    print(\"짝수입니다\")\n",
    "else:\n",
    "    print(\"홀수입니다\")"
   ]
  },
  {
   "cell_type": "markdown",
   "id": "c87b9511",
   "metadata": {},
   "source": [
    "cf. last_number == 0 or 2 or 4 or 6 or 8이라고 입력하면 True/False 반환"
   ]
  },
  {
   "cell_type": "code",
   "execution_count": 35,
   "id": "cd5cf568",
   "metadata": {},
   "outputs": [
    {
     "name": "stdout",
     "output_type": "stream",
     "text": [
      "홀수입니다\n"
     ]
    }
   ],
   "source": [
    "# in 연산자를 활용한 짝수 홀수 구분\n",
    "number = input(\"정수 입력> \")\n",
    "last_character = number[-1]\n",
    "\n",
    "if last_character in \"02468\":\n",
    "    print(\"짝수입니다\")\n",
    "else:\n",
    "    print(\"홀수입니다\")"
   ]
  },
  {
   "cell_type": "code",
   "execution_count": 37,
   "id": "b7dc4d81",
   "metadata": {},
   "outputs": [
    {
     "name": "stdout",
     "output_type": "stream",
     "text": [
      "홀수입니다\n"
     ]
    }
   ],
   "source": [
    "# 나머지 연산자를 활용한 짝수 홀수 구분\n",
    "number = input(\"정수 입력> \")\n",
    "number = int(number)\n",
    "\n",
    "if number % 2 == 0:\n",
    "    print(\"짝수입니다\")\n",
    "else:\n",
    "    print(\"홀수입니다\")"
   ]
  },
  {
   "cell_type": "markdown",
   "id": "17fcfacd",
   "metadata": {},
   "source": [
    "조건문을 만들 때는 언제나 '컴퓨터에서는 어떻게 하는 게 더 빠를까'를 생각"
   ]
  },
  {
   "cell_type": "code",
   "execution_count": 39,
   "id": "5b0bc9b0",
   "metadata": {},
   "outputs": [
    {
     "name": "stdout",
     "output_type": "stream",
     "text": [
      "두 번째로 입력했던 56가 45보다 더 큽니다\n"
     ]
    }
   ],
   "source": [
    "# 입력된 두 개의 숫자 크기 비교 \n",
    "a = int(input(\"> 1번째 숫자: \"))\n",
    "b = int(input(\"> 2번째 숫자: \"))\n",
    "\n",
    "if a > b:\n",
    "    print(\"처음 입력했던 {}가 {}보다 더 큽니다\".format(a,b))\n",
    "else:\n",
    "    print(\"두 번째로 입력했던 {}가 {}보다 더 큽니다\".format(b,a))"
   ]
  },
  {
   "cell_type": "code",
   "execution_count": null,
   "id": "62d335b1",
   "metadata": {},
   "outputs": [
    {
     "name": "stdout",
     "output_type": "stream",
     "text": [
      "일반인\n"
     ]
    }
   ],
   "source": [
    "# if 조건문을 효율적으로 사용하기\n",
    "# 비효율적인 조건문\n",
    "score = float(input(\"점수 입력> \"))\n",
    "\n",
    "if score == 4.5:\n",
    "    print(\"신\")\n",
    "elif 4.2 <= score < 4.5:\n",
    "    print(\"교수님의 사랑\")\n",
    "elif 3.5 <= score < 4.2:\n",
    "    print(\"현 체제의 수호자\")\n",
    "elif 2.8 <= score < 3.5:\n",
    "    print(\"일반인\")\n",
    "elif 2.3 <= score < 2.8:\n",
    "    print(\"일탈을 꿈꾸는 소시민\")\n",
    "elif 1.75 <= score < 2.3:\n",
    "    print(\"오락문화의 선구자\")\n",
    "elif 1.0 <= score < 1.75:\n",
    "    print(\"불가촉천민\")\n",
    "elif 0.5 <= score < 1.0:\n",
    "    print(\"자벌레\")\n",
    "elif 0 < score < 0.5:\n",
    "    print(\"플랑크톤\")\n",
    "elif score == 0:\n",
    "    print(\"시대를 앞서가는 혁명의 씨앗\")"
   ]
  },
  {
   "cell_type": "code",
   "execution_count": null,
   "id": "40955221",
   "metadata": {},
   "outputs": [],
   "source": [
    "# if 조건문을 효율적으로 사용하기\n",
    "# 한번 비교한 조건은 제외 \n",
    "score = float(input(\"점수 입력> \"))\n",
    "\n",
    "if score == 4.5:\n",
    "    print(\"신\")\n",
    "elif 4.2 <= score:\n",
    "    print(\"교수님의 사랑\")\n",
    "elif 3.5 <= score:\n",
    "    print(\"현 체제의 수호자\")\n",
    "elif 2.8 <= score:\n",
    "    print(\"일반인\")\n",
    "elif 2.3 <= score:\n",
    "    print(\"일탈을 꿈꾸는 소시민\")\n",
    "elif 1.75 <= score:\n",
    "    print(\"오락문화의 선구자\")\n",
    "elif 1.0 <= score:\n",
    "    print(\"불가촉천민\")\n",
    "elif 0.5 <= score:\n",
    "    print(\"자벌레\")\n",
    "elif 0 < score:\n",
    "    print(\"플랑크톤\")\n",
    "else:\n",
    "    print(\"시대를 앞서가는 혁명의 씨앗\")"
   ]
  },
  {
   "cell_type": "markdown",
   "id": "439fe571",
   "metadata": {},
   "source": [
    "이 경우 4.5가 초과된 숫자를 입력해도 '교수님의 사랑'이라는 문구가 출력되는 오류가 발생 "
   ]
  },
  {
   "cell_type": "code",
   "execution_count": 4,
   "id": "dfa9b257",
   "metadata": {},
   "outputs": [
    {
     "name": "stdout",
     "output_type": "stream",
     "text": [
      "⚠️ 점수는 0 이상 4.5 이하만 입력 가능합니다.\n"
     ]
    }
   ],
   "source": [
    "# if 조건문을 효율적으로 사용하기\n",
    "# 한번 비교한 조건은 제외 \n",
    "score = float(input(\"점수 입력> \"))\n",
    "\n",
    "# 점수 유효성 검사\n",
    "if not (0 <= score <= 4.5):\n",
    "    print(\"⚠️ 점수는 0 이상 4.5 이하만 입력 가능합니다.\")\n",
    "else:\n",
    "    if score == 4.5:\n",
    "        print(\"신\")\n",
    "    elif 4.2 <= score:\n",
    "        print(\"교수님의 사랑\")\n",
    "    elif 3.5 <= score:\n",
    "        print(\"현 체제의 수호자\")\n",
    "    elif 2.8 <= score:\n",
    "        print(\"일반인\")\n",
    "    elif 2.3 <= score:\n",
    "        print(\"일탈을 꿈꾸는 소시민\")\n",
    "    elif 1.75 <= score:\n",
    "        print(\"오락문화의 선구자\")\n",
    "    elif 1.0 <= score:\n",
    "        print(\"불가촉천민\")\n",
    "    elif 0.5 <= score:\n",
    "        print(\"자벌레\")\n",
    "    elif 0 < score:\n",
    "        print(\"플랑크톤\")\n",
    "    else:\n",
    "        print(\"시대를 앞서가는 혁명의 씨앗\")"
   ]
  },
  {
   "cell_type": "code",
   "execution_count": 5,
   "id": "e24a3485",
   "metadata": {},
   "outputs": [
    {
     "name": "stdout",
     "output_type": "stream",
     "text": [
      "# if 조건문에 0 넣기\n",
      "0은 False로 반환됩니다\n",
      "\n",
      "# if 조건문에 빈 문자열 넣기\n",
      "빈 문자열은 False로 반환됩니다\n",
      "\n"
     ]
    }
   ],
   "source": [
    "#False로 변환되는 값\n",
    "print(\"# if 조건문에 0 넣기\")\n",
    "if 0:\n",
    "    print(\"0은 True로 반환됩니다\")\n",
    "    print()\n",
    "else:\n",
    "    print(\"0은 False로 반환됩니다\")\n",
    "    print()\n",
    "\n",
    "print(\"# if 조건문에 빈 문자열 넣기\")\n",
    "if \"\":\n",
    "    print(\"빈 문자열은 True로 반환됩니다\")\n",
    "    print()\n",
    "else:\n",
    "    print(\"빈 문자열은 False로 반환됩니다\")\n",
    "    print()"
   ]
  },
  {
   "cell_type": "code",
   "execution_count": 7,
   "id": "69601033",
   "metadata": {},
   "outputs": [],
   "source": [
    "# 나중에 구현하려고 비워 둔 구문\n",
    "number = input(\"정수 입력> \")\n",
    "number = int(number)\n",
    "\n",
    "if number > 0:\n",
    "    # 양수일 때: 아직 미구현 상태입니다. \n",
    "    pass\n",
    "else:\n",
    "    # 음수일 때: 아직 미구현 상태입니다.\n",
    "    pass"
   ]
  },
  {
   "cell_type": "code",
   "execution_count": 8,
   "id": "bd061025",
   "metadata": {},
   "outputs": [
    {
     "ename": "NotImplementedError",
     "evalue": "",
     "output_type": "error",
     "traceback": [
      "\u001b[1;31m---------------------------------------------------------------------------\u001b[0m",
      "\u001b[1;31mNotImplementedError\u001b[0m                       Traceback (most recent call last)",
      "Cell \u001b[1;32mIn[8], line 7\u001b[0m\n\u001b[0;32m      3\u001b[0m number \u001b[38;5;241m=\u001b[39m \u001b[38;5;28mint\u001b[39m(number)\n\u001b[0;32m      5\u001b[0m \u001b[38;5;28;01mif\u001b[39;00m number \u001b[38;5;241m>\u001b[39m \u001b[38;5;241m0\u001b[39m:\n\u001b[0;32m      6\u001b[0m     \u001b[38;5;66;03m# 양수일 때: 아직 미구현 상태입니다. \u001b[39;00m\n\u001b[1;32m----> 7\u001b[0m     \u001b[38;5;28;01mraise\u001b[39;00m \u001b[38;5;167;01mNotImplementedError\u001b[39;00m\n\u001b[0;32m      8\u001b[0m \u001b[38;5;28;01melse\u001b[39;00m:\n\u001b[0;32m      9\u001b[0m     \u001b[38;5;66;03m# 음수일 때: 아직 미구현 상태입니다.\u001b[39;00m\n\u001b[0;32m     10\u001b[0m     \u001b[38;5;28;01mraise\u001b[39;00m \u001b[38;5;167;01mNotImplementedError\u001b[39;00m\n",
      "\u001b[1;31mNotImplementedError\u001b[0m: "
     ]
    }
   ],
   "source": [
    "# 나중에 구현하려고 비워 둔 구문\n",
    "number = input(\"정수 입력> \")\n",
    "number = int(number)\n",
    "\n",
    "if number > 0:\n",
    "    # 양수일 때: 아직 미구현 상태입니다. \n",
    "    raise NotImplementedError\n",
    "else:\n",
    "    # 음수일 때: 아직 미구현 상태입니다.\n",
    "    raise NotImplementedError"
   ]
  },
  {
   "cell_type": "code",
   "execution_count": 19,
   "id": "2bfd48ea",
   "metadata": {},
   "outputs": [
    {
     "name": "stdout",
     "output_type": "stream",
     "text": [
      "뱀 띠입니다.\n"
     ]
    }
   ],
   "source": [
    "# 연도를 입력받아 띠를 출력하는 프로그램 작성\n",
    "str_input = int(input(\"태어난 해를 입력해주세요> \"))\n",
    "birth_year = str_input % 12\n",
    "\n",
    "if str_input < 0 or str_input > 2100:\n",
    "    print(\"올바른 연도를 입력해주세요. (0~2100)\")\n",
    "else:\n",
    "    if birth_year == 0:\n",
    "        print(\"원숭이 띠입니다.\")\n",
    "    elif birth_year == 1:\n",
    "        print(\"닭 띠입니다.\")\n",
    "    elif birth_year == 2:\n",
    "        print(\"개 띠입니다.\")\n",
    "    elif birth_year == 3:\n",
    "        print(\"돼지 띠입니다.\")\n",
    "    elif birth_year == 4:\n",
    "        print(\"쥐 띠입니다.\")\n",
    "    elif birth_year == 5:\n",
    "        print(\"소 띠입니다.\")\n",
    "    elif birth_year == 6:\n",
    "        print(\"호랑이 띠입니다.\")\n",
    "    elif birth_year == 7:\n",
    "        print(\"토끼 띠입니다.\")\n",
    "    elif birth_year == 8:\n",
    "        print(\"용 띠입니다.\")\n",
    "    elif birth_year == 9:\n",
    "        print(\"뱀 띠입니다.\")\n",
    "    elif birth_year == 10:\n",
    "        print(\"말 띠입니다.\")\n",
    "    elif birth_year == 11:\n",
    "        print(\"양 띠입니다.\")\n"
   ]
  },
  {
   "cell_type": "code",
   "execution_count": 27,
   "id": "3179cd3d",
   "metadata": {},
   "outputs": [
    {
     "name": "stdout",
     "output_type": "stream",
     "text": [
      "지금은 16시 입니다\n"
     ]
    }
   ],
   "source": [
    "# 도전 문제 01. 간단한 대화 프로그램\n",
    "# 입력을 받고 in 연산자를 활용해서 입력에 어떤 단어가 포함되어 있는지 확인 \n",
    "\n",
    "입력 = input(\"입력> \")\n",
    "\n",
    "# 현재 날짜/시간 구하기\n",
    "import datetime\n",
    "now = datetime.datetime.now() # 괄호 안붙이면 AttributeError 발생 \n",
    "\n",
    "if \"안녕\" in 입력:\n",
    "    print(\"안녕하세요\")\n",
    "elif \"몇 시\" in 입력:\n",
    "    print(\"지금은 {}시 입니다\".format(now.hour))\n",
    "else:\n",
    "    print(입력)"
   ]
  },
  {
   "cell_type": "code",
   "execution_count": 35,
   "id": "b860ab73",
   "metadata": {},
   "outputs": [
    {
     "name": "stdout",
     "output_type": "stream",
     "text": [
      "496은 2로 나누어 떨어지는 숫자입니다.\n",
      "496은 3로 나누어 떨어지는 숫자가 아닙니다.\n",
      "496은 4로 나누어 떨어지는 숫자입니다.\n",
      "496은 5로 나누어 떨어지는 숫자가 아닙니다.\n"
     ]
    }
   ],
   "source": [
    "# 도전 문제 02. 나누어 떨어지는 숫자\n",
    "# 나머지 연산자 활용\n",
    "\n",
    "number = input(\"정수를 입력해주세요: \")\n",
    "number = int(number)\n",
    "\n",
    "if number % 2 == 0:\n",
    "    print(\"{}은 2로 나누어 떨어지는 숫자입니다.\".format(number)) \n",
    "else:\n",
    "    print(\"{}은 2로 나누어 떨어지는 숫자가 아닙니다.\".format(number))\n",
    "\n",
    "if number % 3 == 0:\n",
    "    print(\"{}은 3로 나누어 떨어지는 숫자입니다.\".format(number)) \n",
    "else:\n",
    "    print(\"{}은 3로 나누어 떨어지는 숫자가 아닙니다.\".format(number))\n",
    "\n",
    "if number % 4 == 0:\n",
    "    print(\"{}은 4로 나누어 떨어지는 숫자입니다.\".format(number)) \n",
    "else:\n",
    "    print(\"{}은 4로 나누어 떨어지는 숫자가 아닙니다.\".format(number))\n",
    "\n",
    "if number % 5 == 0:\n",
    "    print(\"{}은 5로 나누어 떨어지는 숫자입니다.\".format(number)) \n",
    "else:\n",
    "    print(\"{}은 5로 나누어 떨어지는 숫자가 아닙니다.\".format(number))\n",
    "\n",
    "\n"
   ]
  }
 ],
 "metadata": {
  "kernelspec": {
   "display_name": "python_env",
   "language": "python",
   "name": "python3"
  },
  "language_info": {
   "codemirror_mode": {
    "name": "ipython",
    "version": 3
   },
   "file_extension": ".py",
   "mimetype": "text/x-python",
   "name": "python",
   "nbconvert_exporter": "python",
   "pygments_lexer": "ipython3",
   "version": "3.10.11"
  }
 },
 "nbformat": 4,
 "nbformat_minor": 5
}
