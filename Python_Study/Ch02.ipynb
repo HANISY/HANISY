{
 "cells": [
  {
   "cell_type": "markdown",
   "id": "dff7e5ac",
   "metadata": {},
   "source": [
    "02. 자료형"
   ]
  },
  {
   "cell_type": "code",
   "execution_count": 2,
   "id": "06565a19",
   "metadata": {},
   "outputs": [
    {
     "name": "stdout",
     "output_type": "stream",
     "text": [
      "원주율 = 3.14159265\n",
      "반지름 = 10\n",
      "원의 둘레 = 62.831853\n",
      "원의 넓이 = 314.159265\n"
     ]
    }
   ],
   "source": [
    "# 변수 선언과 할당 \n",
    "pi = 3.14159265\n",
    "r = 10\n",
    "\n",
    "# 변수 참조\n",
    "print(\"원주율 =\", pi)\n",
    "print(\"반지름 =\", r)\n",
    "print(\"원의 둘레 =\", 2 * pi * r)\n",
    "print(\"원의 넓이 =\", pi * r * r)"
   ]
  },
  {
   "cell_type": "code",
   "execution_count": 7,
   "id": "206ab82b",
   "metadata": {},
   "outputs": [
    {
     "name": "stdout",
     "output_type": "stream",
     "text": [
      "string: 안녕하세요!!\n"
     ]
    }
   ],
   "source": [
    "# 문자열 복합 대입 연산자 예제 \n",
    "string = \"안녕하세요\"\n",
    "string += \"!\"\n",
    "string += \"!\"\n",
    "print(\"string:\", string)"
   ]
  },
  {
   "cell_type": "code",
   "execution_count": 10,
   "id": "129f11b0",
   "metadata": {},
   "outputs": [
    {
     "name": "stdout",
     "output_type": "stream",
     "text": [
      "string: 안녕하세요안녕하세요안녕하세요\n"
     ]
    }
   ],
   "source": [
    "# 문자열 복합 대입 연산자 예제 \n",
    "string = \"안녕하세요\"\n",
    "string *= 3\n",
    "print(\"string:\", string)"
   ]
  },
  {
   "cell_type": "code",
   "execution_count": 16,
   "id": "b820f03b",
   "metadata": {},
   "outputs": [
    {
     "name": "stdout",
     "output_type": "stream",
     "text": [
      "자료: 52273\n",
      "자료형: <class 'str'>\n"
     ]
    }
   ],
   "source": [
    "# 입력을 받습니다. \n",
    "string = input(\"입력> \")\n",
    "\n",
    "# 출력합니다. \n",
    "print(\"자료:\", string)\n",
    "print(\"자료형:\", type(string)) # input() 함수는 사용자가 무엇을 입력해도 결과는 무조건 문자열 자료형으로 출력"
   ]
  },
  {
   "cell_type": "code",
   "execution_count": 15,
   "id": "668fbcb8",
   "metadata": {},
   "outputs": [
    {
     "name": "stdout",
     "output_type": "stream",
     "text": [
      "자료: True\n",
      "자료형: <class 'str'>\n"
     ]
    }
   ],
   "source": [
    "# 입력을 받습니다. \n",
    "string = input(\"입력> \")\n",
    "\n",
    "# 출력합니다. \n",
    "print(\"자료:\", string)\n",
    "print(\"자료형:\", type(string)) "
   ]
  },
  {
   "cell_type": "code",
   "execution_count": 17,
   "id": "a48e3ae0",
   "metadata": {},
   "outputs": [
    {
     "ename": "TypeError",
     "evalue": "can only concatenate str (not \"int\") to str",
     "output_type": "error",
     "traceback": [
      "\u001b[1;31m---------------------------------------------------------------------------\u001b[0m",
      "\u001b[1;31mTypeError\u001b[0m                                 Traceback (most recent call last)",
      "Cell \u001b[1;32mIn[17], line 5\u001b[0m\n\u001b[0;32m      2\u001b[0m string \u001b[38;5;241m=\u001b[39m \u001b[38;5;28minput\u001b[39m(\u001b[38;5;124m\"\u001b[39m\u001b[38;5;124m입력> \u001b[39m\u001b[38;5;124m\"\u001b[39m)\n\u001b[0;32m      4\u001b[0m \u001b[38;5;66;03m# 출력합니다. \u001b[39;00m\n\u001b[1;32m----> 5\u001b[0m \u001b[38;5;28mprint\u001b[39m(\u001b[38;5;124m\"\u001b[39m\u001b[38;5;124m입력 + 100:\u001b[39m\u001b[38;5;124m\"\u001b[39m, \u001b[43mstring\u001b[49m\u001b[43m \u001b[49m\u001b[38;5;241;43m+\u001b[39;49m\u001b[43m \u001b[49m\u001b[38;5;241;43m100\u001b[39;49m)\n",
      "\u001b[1;31mTypeError\u001b[0m: can only concatenate str (not \"int\") to str"
     ]
    }
   ],
   "source": [
    "# 입력을 받습니다. \n",
    "string = input(\"입력> \")\n",
    "\n",
    "# 출력합니다. \n",
    "print(\"입력 + 100:\", string + 100) # input() 함수로 입력받은 자료는 모두 문자열로 저장되므로 오류 발생 "
   ]
  },
  {
   "cell_type": "code",
   "execution_count": 18,
   "id": "1a2b032a",
   "metadata": {},
   "outputs": [
    {
     "name": "stdout",
     "output_type": "stream",
     "text": [
      "문자열 자료: 27352\n",
      "숫자 자료: 325\n"
     ]
    }
   ],
   "source": [
    "string_a = input(\"입력A> \")\n",
    "int_a = int(string_a) # 문자열을 int 자료형으로 전환 \n",
    "\n",
    "string_b = input(\"입력B> \")\n",
    "int_b = int(string_b)\n",
    "\n",
    "print(\"문자열 자료:\", string_a + string_b) # 문자열 연결\n",
    "print(\"숫자 자료:\", int_a + int_b) # 덧셈"
   ]
  },
  {
   "cell_type": "code",
   "execution_count": 19,
   "id": "26e3e5c7",
   "metadata": {},
   "outputs": [
    {
     "name": "stdout",
     "output_type": "stream",
     "text": [
      "27 inch는 cm 단위로 68.58 cm입니다.\n"
     ]
    }
   ],
   "source": [
    "# inch 단위를 cm 단위로 변경하기\n",
    "\n",
    "# 숫자를 입력 받습니다. \n",
    "raw_input = input(\"inch 단위의 숫자를 입력해주세요:\")\n",
    "\n",
    "# 입력받은 데이터를 숫자 자료형으로 변경하고, cm 단위로 변경합니다. \n",
    "inch = int(raw_input)\n",
    "cm = inch * 2.54\n",
    "\n",
    "# 출력합니다 .\n",
    "print(inch, \"inch는 cm 단위로\", cm, \"cm입니다.\")"
   ]
  },
  {
   "cell_type": "code",
   "execution_count": 23,
   "id": "e4f9b11e",
   "metadata": {},
   "outputs": [
    {
     "name": "stdout",
     "output_type": "stream",
     "text": [
      "안녕하세요 아침입니다\n",
      "아침입니다 안녕하세요\n"
     ]
    }
   ],
   "source": [
    "# swap\n",
    "a = input(\"문자열 입력> \")\n",
    "b = input(\"문자열 입력> \")\n",
    "\n",
    "print(a, b)\n",
    "c = a\n",
    "a = b\n",
    "b = c \n",
    "print(a, b)"
   ]
  },
  {
   "cell_type": "code",
   "execution_count": 25,
   "id": "a1ce0b0f",
   "metadata": {},
   "outputs": [
    {
     "name": "stdout",
     "output_type": "stream",
     "text": [
      "10\n",
      "<class 'str'>\n"
     ]
    }
   ],
   "source": [
    "# format 함수로 숫자를 문자열로 변환하기\n",
    "string_a = \"{}\".format(10)\n",
    "\n",
    "# 출력하기\n",
    "print(string_a)\n",
    "print(type(string_a))"
   ]
  },
  {
   "cell_type": "code",
   "execution_count": 30,
   "id": "717b3d85",
   "metadata": {},
   "outputs": [
    {
     "name": "stdout",
     "output_type": "stream",
     "text": [
      "5000만 원\n",
      "파이썬 열공하여 첫 연봉 5000만 원 만들기\n",
      "3000 4000 5000\n",
      "1 문자열 True\n"
     ]
    }
   ],
   "source": [
    "# format() 함수로 숫자를 문자열로 변환하기\n",
    "format_a = \"{}만 원\".format(5000)\n",
    "format_b = \"파이썬 열공하여 첫 연봉 {}만 원 만들기\".format(5000)\n",
    "format_c = \"{} {} {}\".format(3000, 4000, 5000)\n",
    "format_d = \"{} {} {}\".format(1, \"문자열\", True)\n",
    "\n",
    "# 출력하기\n",
    "print(format_a)\n",
    "print(format_b)\n",
    "print(format_c)\n",
    "print(format_d)"
   ]
  },
  {
   "cell_type": "code",
   "execution_count": 34,
   "id": "286ab533",
   "metadata": {},
   "outputs": [
    {
     "name": "stdout",
     "output_type": "stream",
     "text": [
      "# 기본\n",
      "52\n",
      "# 특정 칸에 출력하기\n",
      "   52\n",
      "        52\n",
      "# 빈칸을 0으로 채우기\n",
      "00052\n",
      "-0052\n"
     ]
    }
   ],
   "source": [
    "# 정수를 특정 칸에 출력하기\n",
    "output_a = \"{:d}\".format(52)\n",
    "output_b = \"{:5d}\".format(52)\n",
    "output_c = \"{:10d}\".format(52)\n",
    "output_d = \"{:05d}\".format(52)\n",
    "output_e = \"{:05d}\".format(-52)\n",
    "\n",
    "print(\"# 기본\")\n",
    "print(output_a)\n",
    "print(\"# 특정 칸에 출력하기\")\n",
    "print(output_b)\n",
    "print(output_c)\n",
    "print(\"# 빈칸을 0으로 채우기\")\n",
    "print(output_d)\n",
    "print(output_e)"
   ]
  },
  {
   "cell_type": "code",
   "execution_count": null,
   "id": "d5627c5a",
   "metadata": {},
   "outputs": [
    {
     "name": "stdout",
     "output_type": "stream",
     "text": [
      "# 기호와 함께 출력하기 \n",
      "+52\n",
      "-52\n",
      " 52\n",
      "-52\n"
     ]
    }
   ],
   "source": [
    "# 기호 붙여 출력하기 \n",
    "output_f = \"{:+d}\".format(52)\n",
    "output_g = \"{:+d}\".format(-52)\n",
    "output_h = \"{: d}\".format(52) # 기호 부분 공백 \n",
    "output_i = \"{: d}\".format(-52)\n",
    "\n",
    "print(\"# 기호와 함께 출력하기\")\n",
    "print(output_f)\n",
    "print(output_g)\n",
    "print(output_h)\n",
    "print(output_i)"
   ]
  },
  {
   "cell_type": "code",
   "execution_count": 2,
   "id": "0ef6d881",
   "metadata": {},
   "outputs": [
    {
     "name": "stdout",
     "output_type": "stream",
     "text": [
      "# 조합하기\n",
      "  +52\n",
      "  -52\n",
      "+  52\n",
      "-  52\n",
      "+0052\n",
      "-0052\n"
     ]
    }
   ],
   "source": [
    "# 정수 출력 조합하기 \n",
    "output_h = \"{:+5d}\".format(52)\n",
    "output_i = \"{:+5d}\".format(-52)\n",
    "output_j = \"{:=+5d}\".format(52) # 기호를 앞으로 밀기 \n",
    "output_k = \"{:=+5d}\".format(-52) \n",
    "output_l = \"{:+05d}\".format(52) # 0으로 채우기 \n",
    "output_m = \"{:+05d}\".format(-52)\n",
    "\n",
    "print(\"# 조합하기\")\n",
    "print(output_h)\n",
    "print(output_i)\n",
    "print(output_j)\n",
    "print(output_k)\n",
    "print(output_l)\n",
    "print(output_m)"
   ]
  },
  {
   "cell_type": "code",
   "execution_count": 3,
   "id": "47784d4e",
   "metadata": {},
   "outputs": [
    {
     "name": "stdout",
     "output_type": "stream",
     "text": [
      "52.273000\n",
      "      52.273000\n",
      "     +52.273000\n",
      "+0000052.273000\n"
     ]
    }
   ],
   "source": [
    "# 다양한 형태의 부동 소수점 출력하기\n",
    "output_a = \"{:f}\".format(52.273)\n",
    "output_b = \"{:15f}\".format(52.273)\n",
    "output_c = \"{:+15f}\".format(52.273)\n",
    "output_d = \"{:+015f}\".format(52.273)\n",
    "\n",
    "print(output_a)\n",
    "print(output_b)\n",
    "print(output_c)\n",
    "print(output_d)"
   ]
  },
  {
   "cell_type": "code",
   "execution_count": null,
   "id": "0525fd7f",
   "metadata": {},
   "outputs": [
    {
     "name": "stdout",
     "output_type": "stream",
     "text": [
      "         52.273\n",
      "          52.27\n",
      "           52.3\n"
     ]
    }
   ],
   "source": [
    "# 소수점 아래 자릿수 지정하기\n",
    "# 자동으로 반올림 수행 \n",
    "output_a = \"{:15.3f}\".format(52.273)\n",
    "output_b = \"{:15.2f}\".format(52.273)\n",
    "output_c = \"{:15.1f}\".format(52.273)\n",
    "\n",
    "print(output_a)\n",
    "print(output_b)\n",
    "print(output_c)\n"
   ]
  },
  {
   "cell_type": "code",
   "execution_count": 5,
   "id": "8eaf020e",
   "metadata": {},
   "outputs": [
    {
     "name": "stdout",
     "output_type": "stream",
     "text": [
      "52.0\n",
      "52\n"
     ]
    }
   ],
   "source": [
    "# 의미 없는 소수점 제거하기\n",
    "output_a = 52.0\n",
    "output_b = \"{:g}\".format(output_a)\n",
    "print(output_a)\n",
    "print(output_b)"
   ]
  },
  {
   "cell_type": "code",
   "execution_count": null,
   "id": "3c115971",
   "metadata": {},
   "outputs": [
    {
     "name": "stdout",
     "output_type": "stream",
     "text": [
      "\n",
      "     안녕하세요\n",
      "문자열의 함수를 알아봅니다\n",
      "\n",
      "안녕하세요\n",
      "문자열의 함수를 알아봅니다\n"
     ]
    }
   ],
   "source": [
    "# 문자열 양 옆의 공백 제거하기\n",
    "input_a = \"\"\"\n",
    "     안녕하세요\n",
    "문자열의 함수를 알아봅니다\n",
    "\"\"\"\n",
    "\n",
    "print(input_a)\n",
    "print(input_a.strip()) # print() 함수는 기본적으로 '출력 후 줄바꿈(\\n)'을 자동으로 수행"
   ]
  },
  {
   "cell_type": "code",
   "execution_count": null,
   "id": "502ae7a1",
   "metadata": {},
   "outputs": [
    {
     "name": "stdout",
     "output_type": "stream",
     "text": [
      "True\n",
      "True\n"
     ]
    }
   ],
   "source": [
    "# 문자열의 구성 파악하기\n",
    "print(\"TrainA10\".isalnum()) # 문자열이 알파벳 또는 숫자로만 구성되어 있는지 확인\n",
    "print(\"10\".isdigit()) # 문자열이 숫자로 인식될 수 있는 것인지 확인"
   ]
  },
  {
   "cell_type": "code",
   "execution_count": 12,
   "id": "da6ed6f3",
   "metadata": {},
   "outputs": [
    {
     "name": "stdout",
     "output_type": "stream",
     "text": [
      "0\n",
      "2\n"
     ]
    }
   ],
   "source": [
    "# 문자열 찾기\n",
    "output_a = \"안녕안녕하세요\".find(\"안녕\") # 왼쪽부터 찾아서 처음 등장하는 위치 \n",
    "output_b = \"안녕안녕하세요\".rfind(\"안녕\") #오른쪽부터 찾아서 처음 등장하는 위치 \n",
    "\n",
    "print(output_a)\n",
    "print(output_b)"
   ]
  },
  {
   "cell_type": "code",
   "execution_count": 15,
   "id": "5b94a6f7",
   "metadata": {},
   "outputs": [
    {
     "name": "stdout",
     "output_type": "stream",
     "text": [
      "True\n",
      "False\n"
     ]
    }
   ],
   "source": [
    "# 문자열 내부의 문자열 확인\n",
    "print(\"안녕\" in \"안녕하세요\")\n",
    "print(\"잘자\" in \"안녕하세요\")"
   ]
  },
  {
   "cell_type": "code",
   "execution_count": 14,
   "id": "5a35f173",
   "metadata": {},
   "outputs": [
    {
     "name": "stdout",
     "output_type": "stream",
     "text": [
      "['10', '20', '30', '40', '50']\n"
     ]
    }
   ],
   "source": [
    "# 문자열 자르기 \n",
    "a = \"10 20 30 40 50\".split(\" \") # 공백(띄어쓰기) 기준으로 자르기\n",
    "print(a) # list형태로 출력"
   ]
  },
  {
   "cell_type": "markdown",
   "id": "9441760d",
   "metadata": {},
   "source": [
    "f-문자열보다 format()함수를 사용하는 것이 더 좋은 경우\n",
    "1. 문자열 내용이 너무 많을 때 \n",
    "2. 데이터를 리스트에 담아서 사용할 때"
   ]
  },
  {
   "cell_type": "code",
   "execution_count": 31,
   "id": "93722c99",
   "metadata": {},
   "outputs": [
    {
     "data": {
      "text/plain": [
       "'이름: 별\\n나이: 2\\n성별: M\\n지역: 서울특별시 강서구\\n중성화 여부: Y'"
      ]
     },
     "execution_count": 31,
     "metadata": {},
     "output_type": "execute_result"
    }
   ],
   "source": [
    "# 데이터를 리스트에 담아서 사용할 때\n",
    "# f-문자열 사용\n",
    "data = ['별', 2, 'M', '서울특별시 강서구', 'Y']\n",
    "f\"\"\"이름: {data[0]}\n",
    "나이: {data[1]}\n",
    "성별: {data[2]}\n",
    "지역: {data[3]}\n",
    "중성화 여부: {data[4]}\"\"\""
   ]
  },
  {
   "cell_type": "code",
   "execution_count": 32,
   "id": "091034fe",
   "metadata": {},
   "outputs": [
    {
     "data": {
      "text/plain": [
       "'이름: 별\\n나이: 2\\n성별: M\\n지역: 서울특별시 강서구\\n중성화 여부: Y'"
      ]
     },
     "execution_count": 32,
     "metadata": {},
     "output_type": "execute_result"
    }
   ],
   "source": [
    "# format() 함수 사용\n",
    "data = ['별', 2, 'M', '서울특별시 강서구', 'Y']\n",
    "\"\"\"이름: {}\n",
    "나이: {}\n",
    "성별: {}\n",
    "지역: {}\n",
    "중성화 여부: {}\"\"\".format(*data) # 전개 연산자 사용 "
   ]
  },
  {
   "cell_type": "code",
   "execution_count": 36,
   "id": "06a0dbfa",
   "metadata": {},
   "outputs": [
    {
     "ename": "IndexError",
     "evalue": "Replacement index 2 out of range for positional args tuple",
     "output_type": "error",
     "traceback": [
      "\u001b[1;31m---------------------------------------------------------------------------\u001b[0m",
      "\u001b[1;31mIndexError\u001b[0m                                Traceback (most recent call last)",
      "Cell \u001b[1;32mIn[36], line 1\u001b[0m\n\u001b[1;32m----> 1\u001b[0m \u001b[38;5;124;43m\"\u001b[39;49m\u001b[38;5;132;43;01m{}\u001b[39;49;00m\u001b[38;5;124;43m \u001b[39;49m\u001b[38;5;132;43;01m{}\u001b[39;49;00m\u001b[38;5;124;43m \u001b[39;49m\u001b[38;5;132;43;01m{}\u001b[39;49;00m\u001b[38;5;124;43m\"\u001b[39;49m\u001b[38;5;241;43m.\u001b[39;49m\u001b[43mformat\u001b[49m\u001b[43m(\u001b[49m\u001b[38;5;241;43m52\u001b[39;49m\u001b[43m,\u001b[49m\u001b[38;5;28;43mtype\u001b[39;49m\u001b[43m(\u001b[49m\u001b[38;5;241;43m273\u001b[39;49m\u001b[43m)\u001b[49m\u001b[43m)\u001b[49m \u001b[38;5;66;03m# {} 기호의 개수가 format() 함수의 매개변수 개수보다 많으면 예외 발생\u001b[39;00m\n",
      "\u001b[1;31mIndexError\u001b[0m: Replacement index 2 out of range for positional args tuple"
     ]
    }
   ],
   "source": [
    "\"{} {} {}\".format(52,type(273)) # {} 기호의 개수가 format() 함수의 매개변수 개수보다 많으면 예외 발생"
   ]
  },
  {
   "cell_type": "code",
   "execution_count": null,
   "id": "0ca671a2",
   "metadata": {},
   "outputs": [
    {
     "data": {
      "text/plain": [
       "'52'"
      ]
     },
     "execution_count": 37,
     "metadata": {},
     "output_type": "execute_result"
    }
   ],
   "source": [
    "\"{}\".format(52,273) # 적을 때는 정상 동작 "
   ]
  },
  {
   "cell_type": "code",
   "execution_count": null,
   "id": "5aafdf1e",
   "metadata": {},
   "outputs": [
    {
     "name": "stdout",
     "output_type": "stream",
     "text": [
      "\n",
      "100 + 200 = 300\n"
     ]
    }
   ],
   "source": [
    "a = input(\"> 1번째 숫자: \")\n",
    "b = input(\"> 2번째 숫자: \")\n",
    "print()\n",
    "\n",
    "print(\"{} + {} = {}\".format(a, b, int(a)+int(b))) # input()으로 입력받은 숫자는 문자열이므로 숫자 변환 필요 "
   ]
  },
  {
   "cell_type": "code",
   "execution_count": 42,
   "id": "c598a2ff",
   "metadata": {},
   "outputs": [
    {
     "name": "stdout",
     "output_type": "stream",
     "text": [
      "A 지점: Hello\n",
      "B 지점: HELLO\n"
     ]
    }
   ],
   "source": [
    "string = \"Hello\"\n",
    "\n",
    "# string.upper()를 실행하고, string 출력하기\n",
    "string.upper()\n",
    "print(\"A 지점:\", string) # 원본 변수는 바뀌지 않음 \n",
    "\n",
    "# string.upper() 실행하기\n",
    "print(\"B 지점:\", string.upper())"
   ]
  },
  {
   "cell_type": "code",
   "execution_count": 49,
   "id": "43024015",
   "metadata": {},
   "outputs": [
    {
     "name": "stdout",
     "output_type": "stream",
     "text": [
      "= 구의 부피는 523.5986666666666입니다.\n",
      "= 구의 겉넓이는 314.1592입니다.\n"
     ]
    }
   ],
   "source": [
    "# 도전 문제 01. 구의 부피와 겉넓이 \n",
    "pi = 3.141592\n",
    "r = float(input(\"구의 반지름을 입력해주세요: \")) # input()으로 입력받은 숫자는 문자열이므로 실수 변환 필요 \n",
    "v = (4/3) * pi * r * r * r\n",
    "s = 4 * pi * r * r\n",
    "\n",
    "print(f\"= 구의 부피는 {v}입니다.\")\n",
    "print(f\"= 구의 겉넓이는 {s}입니다.\")\n"
   ]
  },
  {
   "cell_type": "code",
   "execution_count": 51,
   "id": "97556ccc",
   "metadata": {},
   "outputs": [
    {
     "name": "stdout",
     "output_type": "stream",
     "text": [
      "= 빗변의 길이는 5.0입니다.\n"
     ]
    }
   ],
   "source": [
    "# 도전 문제 02. 피타고라스의 정의\n",
    "a = float(input(\"밑변의 길이를 입력해주세요: \"))\n",
    "b = float(input(\" 높이의 길이를 입력해주세요: \"))\n",
    "c = ((a ** 2) + (b ** 2)) ** (0.5)\n",
    "\n",
    "print(f\"= 빗변의 길이는 {c}입니다.\")"
   ]
  }
 ],
 "metadata": {
  "kernelspec": {
   "display_name": "python_env",
   "language": "python",
   "name": "python3"
  },
  "language_info": {
   "codemirror_mode": {
    "name": "ipython",
    "version": 3
   },
   "file_extension": ".py",
   "mimetype": "text/x-python",
   "name": "python",
   "nbconvert_exporter": "python",
   "pygments_lexer": "ipython3",
   "version": "3.10.11"
  }
 },
 "nbformat": 4,
 "nbformat_minor": 5
}
